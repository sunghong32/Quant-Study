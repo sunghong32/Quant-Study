{
 "cells": [
  {
   "cell_type": "code",
   "execution_count": 1,
   "id": "22b61564-fcb6-4cdd-84df-bc354ae228e0",
   "metadata": {},
   "outputs": [],
   "source": [
    "import yfinance as yf"
   ]
  },
  {
   "cell_type": "code",
   "execution_count": 2,
   "id": "84b0693d-4e0c-4fb1-be35-b79e6d67fbda",
   "metadata": {},
   "outputs": [
    {
     "name": "stdout",
     "output_type": "stream",
     "text": [
      "[*********************100%***********************]  1 of 1 completed\n"
     ]
    }
   ],
   "source": [
    "data = yf.download(\n",
    "    tickers = \"NVDA\",\n",
    "    period = \"1y\",\n",
    "    interval = \"1d\",\n",
    "    ignore_tz = True,\n",
    "    prepost = False\n",
    ")"
   ]
  },
  {
   "cell_type": "code",
   "execution_count": 3,
   "id": "f533d51e-7838-454f-a2b5-86aa20a7eb73",
   "metadata": {},
   "outputs": [],
   "source": [
    "from matplotlib import pyplot as plt"
   ]
  },
  {
   "cell_type": "code",
   "execution_count": 4,
   "id": "5a0d4bbd",
   "metadata": {},
   "outputs": [],
   "source": [
    "import numpy as np"
   ]
  },
  {
   "cell_type": "code",
   "execution_count": 5,
   "id": "c6d5f4f1-126b-4306-a218-30b7af2b0585",
   "metadata": {},
   "outputs": [],
   "source": [
    "from finta import TA"
   ]
  },
  {
   "cell_type": "code",
   "execution_count": 6,
   "id": "9db82f85-e78a-4b33-b41d-ed8a6836bbad",
   "metadata": {},
   "outputs": [],
   "source": [
    "from finta.utils import to_dataframe, resample, trending_down, trending_up"
   ]
  },
  {
   "cell_type": "code",
   "execution_count": 17,
   "id": "551b2982-ddc6-4e6f-927b-b87a85b91784",
   "metadata": {},
   "outputs": [],
   "source": [
    "result=yf.Ticker('NVDA')"
   ]
  },
  {
   "cell_type": "code",
   "execution_count": 33,
   "id": "9aae6bcc-4fde-4541-8be9-629d456f4364",
   "metadata": {},
   "outputs": [
    {
     "data": {
      "text/plain": [
       "lazy-loading dict with keys = ['currency', 'dayHigh', 'dayLow', 'exchange', 'fiftyDayAverage', 'lastPrice', 'lastVolume', 'marketCap', 'open', 'previousClose', 'quoteType', 'regularMarketPreviousClose', 'shares', 'tenDayAverageVolume', 'threeMonthAverageVolume', 'timezone', 'twoHundredDayAverage', 'yearChange', 'yearHigh', 'yearLow']"
      ]
     },
     "execution_count": 33,
     "metadata": {},
     "output_type": "execute_result"
    }
   ],
   "source": [
    "result.fast_info"
   ]
  },
  {
   "cell_type": "code",
   "execution_count": 32,
   "id": "6caf3576-90ad-4bd9-a5fe-06014b1b1a27",
   "metadata": {},
   "outputs": [
    {
     "data": {
      "text/plain": [
       "2492000000"
      ]
     },
     "execution_count": 32,
     "metadata": {},
     "output_type": "execute_result"
    }
   ],
   "source": [
    "result.fast_info[\"shares\"]"
   ]
  },
  {
   "cell_type": "code",
   "execution_count": null,
   "id": "8937d537-bb77-4a70-b7f8-6b865d16df8b",
   "metadata": {},
   "outputs": [],
   "source": []
  }
 ],
 "metadata": {
  "kernelspec": {
   "display_name": "Python 3 (ipykernel)",
   "language": "python",
   "name": "python3"
  },
  "language_info": {
   "codemirror_mode": {
    "name": "ipython",
    "version": 3
   },
   "file_extension": ".py",
   "mimetype": "text/x-python",
   "name": "python",
   "nbconvert_exporter": "python",
   "pygments_lexer": "ipython3",
   "version": "3.9.13"
  }
 },
 "nbformat": 4,
 "nbformat_minor": 5
}
